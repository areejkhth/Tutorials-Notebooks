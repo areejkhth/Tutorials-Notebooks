{
 "cells": [
  {
   "cell_type": "markdown",
   "id": "c1992d03",
   "metadata": {},
   "source": [
    "# Tutorial # 4"
   ]
  },
  {
   "cell_type": "markdown",
   "id": "58d13dc4",
   "metadata": {},
   "source": [
    "## ⭐️Objectives:\n",
    "\n",
    "By the end of this tutorial, you should be able to answer the following Qs:\n",
    "- How to style your programs\n",
    "- What error message is displayed by the compiler?"
   ]
  },
  {
   "cell_type": "markdown",
   "id": "2b4dc8f1",
   "metadata": {},
   "source": [
    "## 💥Styling Your Programs:\n",
    "\n",
    "- In every program, we usually include documentation comments that include information like:  \n",
    "    - Who are the authors?\n",
    "    - What does the program do?\n",
    "    \n",
    "    \n",
    "- We should write a comment for every variable and method in our program, where we briefly describe what does that code do\n",
    "\n",
    "\n",
    "- All identifiers have to be meaningfull and they follow the below conventions:\n",
    "    - All classes' names begin with an upper case letter\n",
    "    - Methods and variables names begin with a lower case letter and if they consist of several words the words should be concatenated where the second and subsequent words should start with an upper case letter; ex: minValue, addNumbers\n",
    "    - Methods names are always start with a verb; ex: findMaxmimum \n",
    "    - Constants names are all upper case and separated with underscore if they consist of several words; ex: MAX_VALUE\n",
    "    \n",
    "    \n",
    "- Every time we declare a variable: \n",
    "    - We should be sure that we will use it! becasue declaring variables that we dont need will waste memory storage\n",
    "    - We do not use the same variable for different purposes! ex: sum is a variable to store the sum of numbers, we cant use it to store the product of these numbers!\n",
    "    \n",
    "- We indented every statemnt in our program in a systematic way that reflects the nesting of its statements. \n",
    "    - Example: \n",
    "    \n",
    "    public class Main {\n",
    "\n",
    "            public static void main(String[] args) {\n",
    "                System.out.print(\"formatting my code\");\n",
    "            }\n",
    "    \n",
    "    }\n",
    "    \n",
    "    - One of the online editors: https://techiedelight.com/tools/java  \n",
    "    \n",
    "    \n",
    "- Our output should be nicely spaced and easy to understand\n",
    "    - For every value in our program we must print a short message explaining the meaning of the displayed value\n",
    "    \n",
    "    \n",
    "- We always print a prompt message describing what the user is required to enter!\n",
    "\n",
    "    "
   ]
  },
  {
   "cell_type": "markdown",
   "id": "d07b7bad",
   "metadata": {},
   "source": [
    "## 💥Most Frequently Error Messages:\n",
    "\n",
    "- variable VARIABLE_NAME might not have been initialized\t\n",
    "    -  This error happens when you have tried to use VARIABLE_NAME without initializing it i.e. giving it a value when you declared it. Remember, Java is case sensitive language that means you might have a typo.\n",
    "    \n",
    "- cannot find symbol\n",
    "    - The compiler finds a something that it does not understand. The compiler should provide you with \"word\" and \"line\" of that error\n",
    "    \n",
    "- ';' expected\n",
    "    - You are missing a semi-colon at the end of a line\n",
    "    \n",
    "- cannot assign a value to a final variable VARIABLE_NAME\t\n",
    "    - This happened when you are trying to assign a value to a constant VARIABLE_NAME \n",
    "    \n",
    "- illegal start of expression\t\n",
    "    - The compiler finds something that should not be there, ex: you have added/missing an extra { or ) \n",
    "    \n",
    "- reached end of file while parsing\n",
    "    - You code block might have issues check all brackets {}\n",
    "    \n",
    "- not a statement\t\n",
    "    - There is a line that is not valid in Java\n",
    "    \n",
    "- incompatible types\n",
    "    - It happens when you try to assign a value of data type that is different from the one of the variable\n",
    " "
   ]
  },
  {
   "cell_type": "code",
   "execution_count": null,
   "id": "a6b2b0dc",
   "metadata": {},
   "outputs": [],
   "source": []
  }
 ],
 "metadata": {
  "kernelspec": {
   "display_name": "SciJava",
   "language": "groovy",
   "name": "scijava"
  },
  "language_info": {
   "codemirror_mode": "groovy",
   "file_extension": "",
   "mimetype": "",
   "name": "scijava",
   "nbconverter_exporter": "",
   "pygments_lexer": "groovy",
   "version": "1.0"
  }
 },
 "nbformat": 4,
 "nbformat_minor": 5
}
