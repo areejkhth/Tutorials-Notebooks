{
 "cells": [
  {
   "cell_type": "markdown",
   "id": "ef1faea3",
   "metadata": {
    "slideshow": {
     "slide_type": "slide"
    }
   },
   "source": [
    "# Tutorial # 2"
   ]
  },
  {
   "cell_type": "markdown",
   "id": "469825d3",
   "metadata": {
    "slideshow": {
     "slide_type": "slide"
    }
   },
   "source": [
    "## ⭐️Objectives:\n",
    "\n",
    "By the end of this tutorial, you should be able to answer the following Qs:\n",
    "- What are primitive and non-primitive data types\n",
    "- What are variables\n",
    "- How to decalre and initialize variables with different types (int, char, String, float, boolean, etc)\n",
    "- How to write assignement statements \n",
    "- How to write arithmetic expressions \n",
    "- How to change variable types with Casting.\n",
    "- How to use single line comments and multi-line comments"
   ]
  },
  {
   "cell_type": "markdown",
   "id": "be0d7958",
   "metadata": {
    "slideshow": {
     "slide_type": "slide"
    }
   },
   "source": [
    "## 💥Java Comments:\n",
    "- Comments are lines that describe the purpose of a praticular line(s) of code\n",
    "- Comeents will NOT be executed!\n",
    "- Compiler  treats these comments as white spaces! (ignore them)\n",
    "- Comments are manely meant to make the code easier to read and understand"
   ]
  },
  {
   "cell_type": "markdown",
   "id": "3512f9ff",
   "metadata": {
    "slideshow": {
     "slide_type": "slide"
    }
   },
   "source": [
    "## 💥Comments Type:\n",
    "- **Single line**: \n",
    "      - To comment one line only\n",
    "      - Syntax: // Comment line\n",
    "\n",
    "- **Multi-lines**: \n",
    "      - To comment more than one line \n",
    "      - Syntax: /* comment line(s) */\n",
    "     "
   ]
  },
  {
   "cell_type": "code",
   "execution_count": 42,
   "id": "16f8c146",
   "metadata": {
    "slideshow": {
     "slide_type": "slide"
    }
   },
   "outputs": [
    {
     "data": {
      "text/plain": [
       "No Outputs"
      ]
     },
     "execution_count": 42,
     "metadata": {},
     "output_type": "execute_result"
    }
   ],
   "source": [
    "//This is a single line comment!"
   ]
  },
  {
   "cell_type": "code",
   "execution_count": 43,
   "id": "8e804533",
   "metadata": {
    "slideshow": {
     "slide_type": "slide"
    }
   },
   "outputs": [
    {
     "data": {
      "text/plain": [
       "No Outputs"
      ]
     },
     "execution_count": 43,
     "metadata": {},
     "output_type": "execute_result"
    }
   ],
   "source": [
    "// Another single line!!"
   ]
  },
  {
   "cell_type": "code",
   "execution_count": 44,
   "id": "566f582e",
   "metadata": {
    "slideshow": {
     "slide_type": "slide"
    }
   },
   "outputs": [
    {
     "data": {
      "text/plain": [
       "No Outputs"
      ]
     },
     "execution_count": 44,
     "metadata": {},
     "output_type": "execute_result"
    }
   ],
   "source": [
    "// System.out.println (\"Hello, World!\"); //nothing will be displayed!"
   ]
  },
  {
   "cell_type": "code",
   "execution_count": 45,
   "id": "4ba030c8",
   "metadata": {
    "slideshow": {
     "slide_type": "slide"
    }
   },
   "outputs": [
    {
     "name": "stdout",
     "output_type": "stream",
     "text": [
      "Hello, World!\n"
     ]
    },
    {
     "data": {
      "text/plain": [
       "No Outputs"
      ]
     },
     "execution_count": 45,
     "metadata": {},
     "output_type": "execute_result"
    }
   ],
   "source": [
    "System.out.println (\"Hello, World!\"); // displaying \"Hello, World!\" on the screen"
   ]
  },
  {
   "cell_type": "code",
   "execution_count": null,
   "id": "bae36193",
   "metadata": {
    "slideshow": {
     "slide_type": "slide"
    }
   },
   "outputs": [],
   "source": [
    "/this is not a single-line comment, but a SYNTAX error!"
   ]
  },
  {
   "cell_type": "code",
   "execution_count": 47,
   "id": "85bd2fb1",
   "metadata": {
    "slideshow": {
     "slide_type": "slide"
    }
   },
   "outputs": [
    {
     "data": {
      "text/plain": [
       "No Outputs"
      ]
     },
     "execution_count": 47,
     "metadata": {},
     "output_type": "execute_result"
    }
   ],
   "source": [
    "/* one comment inside multi-line comment */"
   ]
  },
  {
   "cell_type": "code",
   "execution_count": 48,
   "id": "e5fa4dcb",
   "metadata": {
    "slideshow": {
     "slide_type": "slide"
    }
   },
   "outputs": [
    {
     "data": {
      "text/plain": [
       "No Outputs"
      ]
     },
     "execution_count": 48,
     "metadata": {},
     "output_type": "execute_result"
    }
   ],
   "source": [
    "/* this\n",
    "* is \n",
    "* a \n",
    "* multi-line\n",
    "* comment!\n",
    "*/"
   ]
  },
  {
   "cell_type": "code",
   "execution_count": null,
   "id": "281a1ffc",
   "metadata": {
    "slideshow": {
     "slide_type": "slide"
    }
   },
   "outputs": [],
   "source": [
    "*/ */ // syntax error"
   ]
  },
  {
   "cell_type": "markdown",
   "id": "adcc1808",
   "metadata": {
    "slideshow": {
     "slide_type": "slide"
    }
   },
   "source": [
    "## 💥Java Datatypes\n",
    "- **primitive or simple**: numeric (short, int, long, double, float), non-numeric (char, boolean)\n",
    "- **non-primitive or compound**: String, arrays"
   ]
  },
  {
   "cell_type": "markdown",
   "id": "ee5e2ea0",
   "metadata": {
    "slideshow": {
     "slide_type": "slide"
    }
   },
   "source": [
    "## 💥Variables and Constants: Places to store values in your program."
   ]
  },
  {
   "cell_type": "markdown",
   "id": "218a5b11",
   "metadata": {
    "slideshow": {
     "slide_type": "slide"
    }
   },
   "source": [
    "**💥VARIABLES**: are places in your computer memory that you could you as storage to store information. \n",
    "- You may think of variables as empty boxes or containers that need to be filled \n",
    "- The value stored in a variables could be changed\n",
    "- In Java, each variable has to be decalre before it can be used\n",
    "- Every variable has the trio! 'Name', 'Type' and 'Value'."
   ]
  },
  {
   "cell_type": "markdown",
   "id": "cdea2016",
   "metadata": {
    "slideshow": {
     "slide_type": "slide"
    }
   },
   "source": [
    "**💥NAMING Variables**: \n",
    "- You could use any names for your variables, but it has to be a valid name in Java\n",
    "  - Ex: you cannot use spaces, so use underscore instead, like ```first_name, last_name```.\n",
    "- You must not start a variable name with digit, like ```7number```\n",
    "- You must not use symboles as ```+, ?, . , * ```, etc in naming your variables\n",
    "- You must not use keywords/token in naming variables, like ```public, for, do ```, etc\n",
    "\n",
    "**Names** should be meaningfull, so avoid variables, like ```x```, ```thing```.\n",
    "\n",
    "It is better to accompany variables with ```comments``` to make it easy for others to understand your code.\n",
    "\n",
    "**💥PRINTING variables' values**: you may print any variable's value if you not sure what is stored inside it. \n",
    "- Example\n",
    "\n",
    "```System.out.print(x);```\n",
    "\n",
    "```System.out.println(x);```"
   ]
  },
  {
   "cell_type": "markdown",
   "id": "1b3e5a2f",
   "metadata": {},
   "source": [
    "**💥Constants**: are very similar to variable, excepts their values never ever can be changed"
   ]
  },
  {
   "cell_type": "markdown",
   "id": "7d593026",
   "metadata": {
    "slideshow": {
     "slide_type": "slide"
    }
   },
   "source": [
    "**💥DECLARING Variables of Primitive Types**: \n",
    "\n",
    "  - Syntax: ```data_type var_name;```\n",
    "- where:\n",
    "    - ```data_type``` describes the type of information to be stored in this variable\n",
    "    - ```var_name``` is any valid Java name\n",
    "    - Every Java statement ends with a simicolon (```;```)"
   ]
  },
  {
   "cell_type": "markdown",
   "id": "e6387e96",
   "metadata": {},
   "source": [
    "**💥DECLARING Contants of Primitive Types**: \n",
    "\n",
    "  - Syntax: ```public static final data_type var_name = value;```\n",
    "- where:\n",
    "    -```public``` means contant is accessiple from other classes\n",
    "    - ```static``` means constant can be called by its name\n",
    "    - ```final``` its value cant be changed!\n",
    "    - ```data_type``` describes the type of information to be stored in this variable\n",
    "    - ```var_name``` is any valid Java name\n",
    "    - ```value``` could be literal or expression!\n",
    "    - Every Java statement ends with a simicolon (```;```)\n",
    "    "
   ]
  },
  {
   "cell_type": "markdown",
   "id": "86dbc57e",
   "metadata": {
    "slideshow": {
     "slide_type": "slide"
    }
   },
   "source": [
    "**💥Most Frequently Used Primitive Datatypes**\n",
    "  - ```int```: whole numbers, e.g. 43\n",
    "  - ```double```: fractions, e.g. 6.23\n",
    "  - ```char```: symbols, e.g. 'A', '1', '?'\n",
    "  - ```boolean```: logic values, e.g. true or false"
   ]
  },
  {
   "cell_type": "markdown",
   "id": "710039b5",
   "metadata": {
    "slideshow": {
     "slide_type": "slide"
    }
   },
   "source": [
    "**Q: Declare an integer variable named ```result```**"
   ]
  },
  {
   "cell_type": "code",
   "execution_count": 67,
   "id": "f7bf581f",
   "metadata": {
    "slideshow": {
     "slide_type": "slide"
    }
   },
   "outputs": [
    {
     "data": {
      "text/html": [
       "0"
      ]
     },
     "execution_count": 67,
     "metadata": {},
     "output_type": "execute_result"
    }
   ],
   "source": [
    "//Answer\n",
    "int result;"
   ]
  },
  {
   "cell_type": "markdown",
   "id": "6d08b6ab",
   "metadata": {
    "slideshow": {
     "slide_type": "slide"
    }
   },
   "source": [
    "**Q: Declare a variable named ```letter``` of type char**"
   ]
  },
  {
   "cell_type": "code",
   "execution_count": 51,
   "id": "06b91afa",
   "metadata": {
    "slideshow": {
     "slide_type": "slide"
    }
   },
   "outputs": [
    {
     "data": {
      "text/plain": [
       "No Outputs"
      ]
     },
     "execution_count": 51,
     "metadata": {},
     "output_type": "execute_result"
    }
   ],
   "source": [
    "//Answer"
   ]
  },
  {
   "cell_type": "markdown",
   "id": "056b966e",
   "metadata": {},
   "source": [
    "**Q: Declare a constant named ```PI``` of type double**"
   ]
  },
  {
   "cell_type": "code",
   "execution_count": 52,
   "id": "aa61d562",
   "metadata": {},
   "outputs": [
    {
     "data": {
      "text/plain": [
       "No Outputs"
      ]
     },
     "execution_count": 52,
     "metadata": {},
     "output_type": "execute_result"
    }
   ],
   "source": [
    "//Answer"
   ]
  },
  {
   "cell_type": "markdown",
   "id": "dca1548e",
   "metadata": {
    "slideshow": {
     "slide_type": "slide"
    }
   },
   "source": [
    "**💥DECLARING Variables of Type String**: \n",
    "\n",
    "```String var_name;```\n",
    "\n",
    "- OR:\n",
    "\n",
    "```String var_name = new String ()```;"
   ]
  },
  {
   "cell_type": "markdown",
   "id": "708ae143",
   "metadata": {
    "slideshow": {
     "slide_type": "slide"
    }
   },
   "source": [
    "**Q: Declare a variable named ```first name``` of type String**"
   ]
  },
  {
   "cell_type": "code",
   "execution_count": 53,
   "id": "7cb9ebc3",
   "metadata": {
    "slideshow": {
     "slide_type": "slide"
    }
   },
   "outputs": [
    {
     "data": {
      "text/plain": [
       "No Outputs"
      ]
     },
     "execution_count": 53,
     "metadata": {},
     "output_type": "execute_result"
    }
   ],
   "source": [
    "//Answer"
   ]
  },
  {
   "cell_type": "markdown",
   "id": "f1efa8a0",
   "metadata": {},
   "source": [
    "**💥DECLARING Constant of Type String**: \n",
    "\n",
    "```public static final String var_name = \"string\";```"
   ]
  },
  {
   "cell_type": "markdown",
   "id": "49a2a574",
   "metadata": {},
   "source": [
    "**Q: Declare a constant named ```motto``` of type String with the value \"Be Happy!\"\"**"
   ]
  },
  {
   "cell_type": "code",
   "execution_count": 54,
   "id": "398af0b6",
   "metadata": {},
   "outputs": [
    {
     "data": {
      "text/plain": [
       "No Outputs"
      ]
     },
     "execution_count": 54,
     "metadata": {},
     "output_type": "execute_result"
    }
   ],
   "source": [
    "//Answer"
   ]
  },
  {
   "cell_type": "markdown",
   "id": "c3bb47c5",
   "metadata": {
    "slideshow": {
     "slide_type": "slide"
    }
   },
   "source": [
    "## 💥Initializing Variables - Give variables values! "
   ]
  },
  {
   "cell_type": "markdown",
   "id": "3e33b13e",
   "metadata": {
    "slideshow": {
     "slide_type": "slide"
    }
   },
   "source": [
    "**💥Initialization Statements**: where you could decalre a variable and give it an initial value\n",
    "   - Syntax: ```data_type var_name = value;```\n",
    "   - where:\n",
    "    - ```data_type``` describes the type of information to be stored in this variable\n",
    "    - ```var_name``` is any valid Java name\n",
    "    - ```value``` could be expression, variable, or a literal!\n",
    "    - Every Java statement ends with a simicolon (```;```)\n",
    "    - Example:\n",
    "    ```int number = 0;``` //this is an integer variable named number with an initial value 0"
   ]
  },
  {
   "cell_type": "markdown",
   "id": "9aa2d537",
   "metadata": {
    "slideshow": {
     "slide_type": "slide"
    }
   },
   "source": [
    "**Q: write a java statement to initialize variable named ```x``` of type ```float``` with the value ```4.23```**"
   ]
  },
  {
   "cell_type": "code",
   "execution_count": 55,
   "id": "841ba876",
   "metadata": {
    "slideshow": {
     "slide_type": "slide"
    }
   },
   "outputs": [
    {
     "data": {
      "text/plain": [
       "No Outputs"
      ]
     },
     "execution_count": 55,
     "metadata": {},
     "output_type": "execute_result"
    }
   ],
   "source": [
    "//answer"
   ]
  },
  {
   "cell_type": "markdown",
   "id": "c1ead894",
   "metadata": {
    "slideshow": {
     "slide_type": "slide"
    }
   },
   "source": [
    "**Note** you may initialize String varaibles as follows:\n",
    "  - ```String var_name = \"value\";```\n",
    "  \n",
    "  OR\n",
    "  \n",
    "  - ```String var_name = new String (\"value\");```"
   ]
  },
  {
   "cell_type": "markdown",
   "id": "639785ac",
   "metadata": {
    "slideshow": {
     "slide_type": "slide"
    }
   },
   "source": [
    "**Q: write a java statement to initialize variable named ```name``` of type ```String``` with the value ```Ali```**"
   ]
  },
  {
   "cell_type": "code",
   "execution_count": 56,
   "id": "27dc0fb8",
   "metadata": {
    "slideshow": {
     "slide_type": "slide"
    }
   },
   "outputs": [
    {
     "data": {
      "text/plain": [
       "No Outputs"
      ]
     },
     "execution_count": 56,
     "metadata": {},
     "output_type": "execute_result"
    }
   ],
   "source": [
    "//answer"
   ]
  },
  {
   "cell_type": "markdown",
   "id": "c7d36fb2",
   "metadata": {
    "slideshow": {
     "slide_type": "slide"
    }
   },
   "source": [
    "## 💥Assignment Statements "
   ]
  },
  {
   "cell_type": "markdown",
   "id": "6dd72422",
   "metadata": {
    "slideshow": {
     "slide_type": "slide"
    }
   },
   "source": [
    "**💥Assignment Statements**: to be used to assign values/results to variables\n",
    "   - The ```equal``` sign is used as the assignment operator \n",
    "   - Syntax: ```var_name = value;```"
   ]
  },
  {
   "cell_type": "markdown",
   "id": "fb85450c",
   "metadata": {
    "slideshow": {
     "slide_type": "slide"
    }
   },
   "source": [
    "**💥Evaluating Assignment Statements**\n",
    "  - Always start with the right side first, then assign the value to the left side\n",
    "  - Example"
   ]
  },
  {
   "cell_type": "code",
   "execution_count": 57,
   "id": "f7c74d48",
   "metadata": {
    "slideshow": {
     "slide_type": "slide"
    }
   },
   "outputs": [
    {
     "data": {
      "text/html": [
       "10"
      ]
     },
     "execution_count": 57,
     "metadata": {},
     "output_type": "execute_result"
    }
   ],
   "source": [
    "int x;\n",
    "x = 10; // this is an assignment statement"
   ]
  },
  {
   "cell_type": "code",
   "execution_count": 58,
   "id": "39396fa4",
   "metadata": {
    "slideshow": {
     "slide_type": "slide"
    }
   },
   "outputs": [
    {
     "data": {
      "text/html": [
       "35"
      ]
     },
     "execution_count": 58,
     "metadata": {},
     "output_type": "execute_result"
    }
   ],
   "source": [
    "int x =0;\n",
    "int y =35;\n",
    "\n",
    "x = y; // this is an assignment statement"
   ]
  },
  {
   "cell_type": "code",
   "execution_count": 59,
   "id": "cafc654e",
   "metadata": {
    "slideshow": {
     "slide_type": "slide"
    }
   },
   "outputs": [
    {
     "data": {
      "text/plain": [
       "Ahmand"
      ]
     },
     "execution_count": 59,
     "metadata": {},
     "output_type": "execute_result"
    }
   ],
   "source": [
    "String name;\n",
    "name = \"Ahmand\"; // this is an assignment statement"
   ]
  },
  {
   "cell_type": "markdown",
   "id": "f0ef6f0e",
   "metadata": {
    "slideshow": {
     "slide_type": "slide"
    }
   },
   "source": [
    "**💥Assignment Compatibilities**\n",
    "  - Both sides of the assignment statement MUST be of the same type. It might result in an error!\n",
    "  - Example: assume that variable ```x``` is of type integer, then\n",
    "     \n",
    "     ``` int x =0; ```\n",
    "     \n",
    "     ``` x = 4.5; ``` // Error!! you cant store double in an int variable\n"
   ]
  },
  {
   "cell_type": "markdown",
   "id": "524e4051",
   "metadata": {
    "slideshow": {
     "slide_type": "slide"
    }
   },
   "source": [
    "**💥Type Casting**\n",
    "  - Sometimes you want to store another TYPE of data in a varaible\n",
    "  - So, Java performs implicit casting between the following types:\n",
    "  ```byte --> short --> int --> long --> float --> double```\n",
    "\n",
    "  - However, forcing a variable to be of certain type is called **Type Casting**\n",
    "  \n",
    "  - Syntax:\n",
    "  ``` var = (var_type) value;```\n",
    "  \n",
    "  \n",
    "  - Example\n"
   ]
  },
  {
   "cell_type": "code",
   "execution_count": 60,
   "id": "88800ff4",
   "metadata": {
    "slideshow": {
     "slide_type": "slide"
    }
   },
   "outputs": [
    {
     "data": {
      "text/html": [
       "77"
      ]
     },
     "execution_count": 60,
     "metadata": {},
     "output_type": "execute_result"
    }
   ],
   "source": [
    "int x = 34;\n",
    "\n",
    "x = (int) 77.20;"
   ]
  },
  {
   "cell_type": "code",
   "execution_count": 61,
   "id": "1a771c1f",
   "metadata": {
    "slideshow": {
     "slide_type": "slide"
    }
   },
   "outputs": [
    {
     "data": {
      "text/html": [
       "65"
      ]
     },
     "execution_count": 61,
     "metadata": {},
     "output_type": "execute_result"
    }
   ],
   "source": [
    "char letter = 'A';\n",
    "\n",
    "int x = (int) letter;"
   ]
  },
  {
   "cell_type": "markdown",
   "id": "6b880ba8",
   "metadata": {
    "slideshow": {
     "slide_type": "slide"
    }
   },
   "source": [
    "## 💥Arithmetic Expressions"
   ]
  },
  {
   "cell_type": "markdown",
   "id": "6119a4cf",
   "metadata": {
    "slideshow": {
     "slide_type": "slide"
    }
   },
   "source": [
    "**💥Arithmetic Expression** is a statment that has two operands and one arithmetic operator\n",
    "  - Example: ``` 1 + 2 ```, where the operands are (1 and 2) and + is the operator\n",
    "  - There are 5 types of arithmetic operations ```+, -, *, /, %```\n",
    "  - Note that "
   ]
  },
  {
   "cell_type": "markdown",
   "id": "82c27fe5",
   "metadata": {
    "slideshow": {
     "slide_type": "slide"
    }
   },
   "source": [
    "**💥Short-Hand Assignment Statements**: to be used to assign values/results to variables\n",
    "   - It is an assignment statement \n",
    "   - Where one variable could be found on both sides of the assignment statement\n",
    "   - Example: \n",
    "     - The assignment statement ``` x = x + 5;``` could be written as a short-hand statement  ``` x += 1;``` because ```x``` is on both sides \n",
    "   \n",
    "   - Syntax: ```var_name <operator>= value;```\n",
    "   - Example:"
   ]
  },
  {
   "cell_type": "code",
   "execution_count": 62,
   "id": "4e34ac7d",
   "metadata": {
    "slideshow": {
     "slide_type": "slide"
    }
   },
   "outputs": [
    {
     "data": {
      "text/html": [
       "11"
      ]
     },
     "execution_count": 62,
     "metadata": {},
     "output_type": "execute_result"
    }
   ],
   "source": [
    "int x =9, y = 1; \n",
    "x += y; // short-hand assignment statement \n",
    "// x = 10\n",
    "// it is equivalent to \n",
    "x = x + y;\n",
    "//x = 11"
   ]
  },
  {
   "cell_type": "markdown",
   "id": "2326a651",
   "metadata": {
    "slideshow": {
     "slide_type": "slide"
    }
   },
   "source": [
    "**💥Incremenmt and Decrement Operations**: to be used to assign values/results to variables\n",
    "   - It is an assignment statement that is used to increment/decrement the value of a variable by one\n",
    "   \n",
    "   - Syntax: (increment)\n",
    "   ```var_name++```\n",
    "   ```++var_name```\n",
    "   \n",
    "   ```var_name--```\n",
    "   ```--var_name```\n",
    "   \n",
    "   - Example:"
   ]
  },
  {
   "cell_type": "code",
   "execution_count": 63,
   "id": "1616c720",
   "metadata": {
    "slideshow": {
     "slide_type": "slide"
    }
   },
   "outputs": [
    {
     "data": {
      "text/html": [
       "2"
      ]
     },
     "execution_count": 63,
     "metadata": {},
     "output_type": "execute_result"
    }
   ],
   "source": [
    "int x =1;\n",
    "++x;"
   ]
  },
  {
   "cell_type": "code",
   "execution_count": 64,
   "id": "7c5acf3e",
   "metadata": {
    "slideshow": {
     "slide_type": "slide"
    }
   },
   "outputs": [
    {
     "name": "stdout",
     "output_type": "stream",
     "text": [
      "2"
     ]
    },
    {
     "data": {
      "text/plain": [
       "No Outputs"
      ]
     },
     "execution_count": 64,
     "metadata": {},
     "output_type": "execute_result"
    }
   ],
   "source": [
    "int x =1;\n",
    "x++;\n",
    "System.out.print (x);"
   ]
  },
  {
   "cell_type": "code",
   "execution_count": 65,
   "id": "4bd63e33",
   "metadata": {
    "slideshow": {
     "slide_type": "slide"
    }
   },
   "outputs": [
    {
     "data": {
      "text/html": [
       "99"
      ]
     },
     "execution_count": 65,
     "metadata": {},
     "output_type": "execute_result"
    }
   ],
   "source": [
    "int y = 100;\n",
    "--y;"
   ]
  },
  {
   "cell_type": "code",
   "execution_count": 66,
   "id": "ab476fb4",
   "metadata": {
    "slideshow": {
     "slide_type": "slide"
    }
   },
   "outputs": [
    {
     "name": "stdout",
     "output_type": "stream",
     "text": [
      "99"
     ]
    },
    {
     "data": {
      "text/plain": [
       "No Outputs"
      ]
     },
     "execution_count": 66,
     "metadata": {},
     "output_type": "execute_result"
    }
   ],
   "source": [
    "int y =100;\n",
    "y--;\n",
    "System.out.print (y);"
   ]
  }
 ],
 "metadata": {
  "celltoolbar": "Slideshow",
  "kernelspec": {
   "display_name": "SciJava",
   "language": "groovy",
   "name": "scijava"
  },
  "language_info": {
   "codemirror_mode": "groovy",
   "file_extension": "",
   "mimetype": "",
   "name": "scijava",
   "nbconverter_exporter": "",
   "pygments_lexer": "groovy",
   "version": "1.0"
  }
 },
 "nbformat": 4,
 "nbformat_minor": 5
}
