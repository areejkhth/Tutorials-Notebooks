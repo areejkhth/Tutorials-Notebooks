{
 "cells": [
  {
   "cell_type": "markdown",
   "id": "c84e8103",
   "metadata": {},
   "source": [
    "# Tutorial # 5"
   ]
  },
  {
   "cell_type": "markdown",
   "id": "2698599c",
   "metadata": {},
   "source": [
    "## ⭐️Objectives:\n",
    "\n",
    "By the end of this tutorial, you should be able to answer the following Qs:\n",
    "- How to define static methods\n",
    "- How to implement static methods\n",
    "- How to use/call static methods\n",
    "- What is the difference between parameters and arguments\n",
    "- What are local variables\n",
    "- How to use built-in methods"
   ]
  },
  {
   "cell_type": "markdown",
   "id": "a22e175d",
   "metadata": {},
   "source": [
    "## 💥Methods:\n",
    "- Methods are set of instructions that are grouped together to perform a task or action\n",
    "- There two types of methods in Java:\n",
    "    - Built-in methods which are a set of methods that found in Java's library \n",
    "    - User-defined methods which are the methods that a programer implement \n",
    "    \n",
    "- When to Use Methods?\n",
    "    - Mostly when we find ourselves repeating some code parts espically calculations"
   ]
  },
  {
   "cell_type": "markdown",
   "id": "5f20b0c7",
   "metadata": {},
   "source": [
    "## 💥User-defined Methods:\n",
    "\n",
    "- To use our own method, we first have to declare it or define it so the compiler could recognize it \n",
    "\n",
    "- Where? anywhere inside the class and before the main method \n",
    "    - NOT inside the main's body { }!\n",
    "\n",
    "- Syntax:\n",
    "\n",
    "    ``` public static <data-type> <method-name> (<parameters>){```\n",
    "          //statements\n",
    "    ```}```\n",
    "    \n",
    "    \n",
    "    - Where: \n",
    "        - public is the accessp specifier which means that this method will be accessible by other classes\n",
    "        - static means that we can call this method by its name or by the class name\n",
    "        - data-type is any valid type supported by Java\n",
    "        - method-name is any name of your choice and must be a valid Java identifier\n",
    "        - parameteres are the list of values to be passed to the methods\n",
    "        \n",
    "- Note: \n",
    "    - ```public static <data-type> <method-name> (<parameters>)``` is called method's header\n",
    "    - ```<data-type> <method-name> (<parameters>)``` is called method's signature\n",
    "    - Anything between ```{ }``` is called the method's body\n",
    "    - A method might not return anything to informthe compiler we should replace the data-type with the word ```void``` in the method's header\n",
    "    - When a method returns something, its body MUST have at least ONE ```return``` statement\n",
    "    - parameters are a list of variables declarations separated by comma and the methods will be using them in its body\n",
    "        - You MUST NOT re-declare the parameters inside the method's body!! \n",
    "        - Parameters are called to be local variables because their scope is only within their method's declaration and cannt be used any where else\n",
    "    "
   ]
  },
  {
   "cell_type": "code",
   "execution_count": 1,
   "id": "9147ca4d",
   "metadata": {},
   "outputs": [
    {
     "data": {
      "text/plain": [
       "No Outputs"
      ]
     },
     "execution_count": 1,
     "metadata": {},
     "output_type": "execute_result"
    }
   ],
   "source": [
    "// example: write a method that calculates and returns the sum of two integer numbers?\n",
    "\n",
    "public static int calculateSum (int n1, int n2){\n",
    "    int sum =0;\n",
    "    \n",
    "    sum = n1+n2;\n",
    "    \n",
    "    return sum;\n",
    "}"
   ]
  },
  {
   "cell_type": "code",
   "execution_count": 6,
   "id": "76eae213",
   "metadata": {},
   "outputs": [
    {
     "data": {
      "text/plain": [
       "No Outputs"
      ]
     },
     "execution_count": 6,
     "metadata": {},
     "output_type": "execute_result"
    }
   ],
   "source": [
    "// example: write a method that dispaly the message \"Hello World!\"\n",
    "\n",
    "public static void displayMessage (){\n",
    "    System.out.println (\"Hello World!\");\n",
    "}"
   ]
  },
  {
   "cell_type": "markdown",
   "id": "358e74cf",
   "metadata": {},
   "source": [
    "## 💥Calling User-defined Methods:\n",
    "\n",
    " - There is no point from implementing a method without using it! \n",
    " - In order to use a method, we should call it by its name and send to it a set of ```arguments``` or ```expressions```\n",
    " - Where? whenever we need it to perform an operation/task within a block!\n",
    "     - A block could be inside the main's body!\n",
    "     - A block could be inside any method\n",
    " \n",
    " - Syntax:\n",
    " \n",
    "     ```methodName (arguments);```\n",
    "     \n",
    "     OR \n",
    "     \n",
    "     ```className.methodName(arguments);```\n",
    "     \n",
    "- Note: \n",
    "    - methodName must be the same as in the method's declaration\n",
    "    - className is the name of the class where this particular method belongs to\n",
    "    - arguments are expressions to be sent to method \n",
    "        - Note: Arguments MUST be the same as the parameters in the method's declaration \n",
    "        "
   ]
  },
  {
   "cell_type": "code",
   "execution_count": null,
   "id": "51d1fc4d",
   "metadata": {},
   "outputs": [],
   "source": [
    "// example: write a program named Calculator that has 2 methods\n",
    "// First method is named addTwoNumbers that takes two integer numbers and returns their sum\n",
    "// Second method is named SubtractTwoNumbers that takes two integer numbers and subtracts them from \n",
    "// each other then returns the reult\n",
    "\n"
   ]
  },
  {
   "cell_type": "markdown",
   "id": "83a13f77",
   "metadata": {},
   "source": [
    "## 💥Parameters and Arguments:\n",
    "\n",
    "- Parameters (formal arguments) are the list of variables that a method might need to perform the calculation or computation \n",
    "    - Where to find them ? within ( ) in the method's declaration\n",
    "- Arguments (actual arguments) are the values that are need to pass from the caller to the method\n",
    "    - Where to find them? within ( ) when we make a call to their method"
   ]
  },
  {
   "cell_type": "code",
   "execution_count": null,
   "id": "160fc7a2",
   "metadata": {},
   "outputs": [],
   "source": [
    "//what do we call the varaibles within () ?\n",
    "int sum = sumNumbers (1, 5, 3);\n",
    "\n",
    "public static void displayInfo (String str){ }\n",
    "\n",
    "public static boolean isEven (int number){ }\n",
    "\n",
    "double avg = calculateAverage (num1, num2, num3, num4)"
   ]
  },
  {
   "cell_type": "code",
   "execution_count": null,
   "id": "3fb92eb8",
   "metadata": {},
   "outputs": [],
   "source": [
    "// write a method call for each method declaration\n",
    "\n",
    "public static void displayInfo (String str) { }\n",
    "\n",
    "public static boolean isEven (int number){ }\n"
   ]
  },
  {
   "cell_type": "code",
   "execution_count": null,
   "id": "3b55863f",
   "metadata": {},
   "outputs": [],
   "source": [
    "// write a method declaration for each method call\n",
    "\n",
    "int sum = sumNumbers (1, 5, 3);\n",
    "\n",
    "double avg = calculateAverage (num1, num2, num3, num4)"
   ]
  },
  {
   "cell_type": "markdown",
   "id": "bbe43680",
   "metadata": {},
   "source": [
    "**💥Notes on Parameters and Arguments**: \n",
    "- They should be matching to each other\n",
    "    - Same order\n",
    "    - Same data-type\n",
    "    - Same number\n",
    "    \n",
    "- Failing one of these conditions result in a compilation error"
   ]
  },
  {
   "cell_type": "code",
   "execution_count": null,
   "id": "e1461710",
   "metadata": {},
   "outputs": [],
   "source": [
    "//can you spot the error?\n",
    "\n",
    "public static double findArea (double height, double width) { }\n",
    "\n",
    "double area = findArea(w);\n"
   ]
  },
  {
   "cell_type": "code",
   "execution_count": null,
   "id": "76aec606",
   "metadata": {},
   "outputs": [],
   "source": [
    "//can you spot the error?\n",
    "\n",
    "public static double findArea (double height, double width) { }\n",
    "\n",
    "double area = findArea(h, w, x); "
   ]
  },
  {
   "cell_type": "code",
   "execution_count": null,
   "id": "7fe7d28c",
   "metadata": {},
   "outputs": [],
   "source": [
    "//can you spot the error?\n",
    "\n",
    "public static double findProduct (double num1, int num2) { }\n",
    "\n",
    "double product = findProduct(num2, num1);"
   ]
  },
  {
   "cell_type": "code",
   "execution_count": null,
   "id": "34a73295",
   "metadata": {},
   "outputs": [],
   "source": [
    "//can you spot the error?\n",
    "\n",
    "public static double findProduct (double num1, int num2) { }\n",
    "\n",
    "double product = findProduct(10, 5.5);"
   ]
  },
  {
   "cell_type": "markdown",
   "id": "ef2b5e59",
   "metadata": {},
   "source": [
    "## 💥Local Variables:\n",
    "- Local variables are the variables belong to a block such as methods' body { }\n",
    "- Local variables can be used within the block { }, but NOT outside it!\n",
    "- In methods, these variables are:\n",
    "    - Parameters which are the variables within ( ) in method's declaration\n",
    "        - Be careful, we do NOT re-declare these variables!\n",
    "    - or resides inside their body"
   ]
  },
  {
   "cell_type": "code",
   "execution_count": null,
   "id": "7a363cd5",
   "metadata": {},
   "outputs": [],
   "source": [
    "public class Main {\n",
    "    public static int testLocal (int number){\n",
    "        number = 10;\n",
    "        \n",
    "        return number;\n",
    "    }\n",
    "    \n",
    "    public static void main (String [] args){\n",
    "        System.out.println (number);\n",
    "    }\n",
    "}"
   ]
  },
  {
   "cell_type": "code",
   "execution_count": null,
   "id": "a447986e",
   "metadata": {},
   "outputs": [],
   "source": [
    "public class Main {\n",
    "    public static int  testLocal (int number){\n",
    "        System.out.println (number);\n",
    "        return 8;\n",
    "    }\n",
    "    \n",
    "    public static void main (String [] args){\n",
    "        int number =0;\n",
    "        \n",
    "        number = testLocal (number);\n",
    "        System.out.println (number);\n",
    "    }\n",
    "}"
   ]
  },
  {
   "cell_type": "code",
   "execution_count": null,
   "id": "570138df",
   "metadata": {},
   "outputs": [],
   "source": [
    "public class Main {\n",
    "    public static int  testLocal (int number){\n",
    "        System.out.println (number);\n",
    "        return 8;\n",
    "    }\n",
    "    \n",
    "    public static void main (String [] args){\n",
    "        int number =0;\n",
    "        \n",
    "        number = testLocal (number);\n",
    "        \n",
    "        number = 2;\n",
    "        System.out.println (number);\n",
    "        testLocal (5);\n",
    "    }\n",
    "}"
   ]
  },
  {
   "cell_type": "markdown",
   "id": "0fe0997b",
   "metadata": {},
   "source": [
    "## 💥Math Class:\n",
    "- Math class provides you with methods that perform math operations\n",
    "- Some of the frequently used methods are:\n",
    "    - ```Math.min()```: returns the smallest of two values\n",
    "    - ```Math.max()```: returns the largest of two values\n",
    "    - ```Math.abs()```: returns the absolute value of a given value \n",
    "    - ```Math.sqrt()```: returns the square root of a given value \n",
    "    - ```Math.pow()```: returns the value of the first argument raised to the power second argument provided"
   ]
  },
  {
   "cell_type": "code",
   "execution_count": 10,
   "id": "fc139ad3",
   "metadata": {},
   "outputs": [
    {
     "data": {
      "text/html": [
       "4&#8203;.0"
      ]
     },
     "execution_count": 10,
     "metadata": {},
     "output_type": "execute_result"
    }
   ],
   "source": [
    "//sqrt ()\n",
    "int x = 16;\n",
    "int result;\n",
    "result = Math.sqrt(x);"
   ]
  },
  {
   "cell_type": "code",
   "execution_count": 8,
   "id": "b34db0ee",
   "metadata": {},
   "outputs": [
    {
     "data": {
      "text/html": [
       "8&#8203;.0"
      ]
     },
     "execution_count": 8,
     "metadata": {},
     "output_type": "execute_result"
    }
   ],
   "source": [
    "//pow ()\n",
    "int x = 2;\n",
    "int y = 3;\n",
    "int result;\n",
    "result = Math.pow(x,y);"
   ]
  },
  {
   "cell_type": "code",
   "execution_count": 9,
   "id": "0ada5d29",
   "metadata": {},
   "outputs": [
    {
     "data": {
      "text/html": [
       "8"
      ]
     },
     "execution_count": 9,
     "metadata": {},
     "output_type": "execute_result"
    }
   ],
   "source": [
    "//abs ()\n",
    "int x = -8;\n",
    "int result;\n",
    "result = Math.abs(x);"
   ]
  },
  {
   "cell_type": "code",
   "execution_count": 12,
   "id": "8de064f4",
   "metadata": {},
   "outputs": [
    {
     "data": {
      "text/html": [
       "3"
      ]
     },
     "execution_count": 12,
     "metadata": {},
     "output_type": "execute_result"
    }
   ],
   "source": [
    "//max ()\n",
    "int x = 2;\n",
    "int y = 3;\n",
    "int max = Math.max (x,y);"
   ]
  },
  {
   "cell_type": "code",
   "execution_count": 13,
   "id": "37a2c9f8",
   "metadata": {},
   "outputs": [
    {
     "data": {
      "text/html": [
       "2"
      ]
     },
     "execution_count": 13,
     "metadata": {},
     "output_type": "execute_result"
    }
   ],
   "source": [
    "//min ()\n",
    "int x = 2;\n",
    "int y = 3;\n",
    "int min = Math.min (x,y);"
   ]
  },
  {
   "cell_type": "code",
   "execution_count": null,
   "id": "5178abc6",
   "metadata": {},
   "outputs": [],
   "source": []
  }
 ],
 "metadata": {
  "kernelspec": {
   "display_name": "SciJava",
   "language": "groovy",
   "name": "scijava"
  },
  "language_info": {
   "codemirror_mode": "groovy",
   "file_extension": "",
   "mimetype": "",
   "name": "scijava",
   "nbconverter_exporter": "",
   "pygments_lexer": "groovy",
   "version": "1.0"
  }
 },
 "nbformat": 4,
 "nbformat_minor": 5
}
