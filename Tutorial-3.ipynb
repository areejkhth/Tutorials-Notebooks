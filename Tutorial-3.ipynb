{
 "cells": [
  {
   "cell_type": "markdown",
   "id": "95e913a0",
   "metadata": {},
   "source": [
    "# Tutorial # 3"
   ]
  },
  {
   "cell_type": "markdown",
   "id": "8a361b30",
   "metadata": {},
   "source": [
    "## ⭐️Objectives:\n",
    "\n",
    "By the end of this tutorial, you should be able to answer the following Qs:\n",
    "- How to read an input from a keyboard \n",
    "- How to display a message on the screen \n",
    "- How to print variabls values \n",
    "- How to format an output\n",
    "- How to use escape characters"
   ]
  },
  {
   "cell_type": "markdown",
   "id": "f2217171",
   "metadata": {},
   "source": [
    "## 💥Inputs in Java:\n",
    "- To read an input from the user:\n",
    "    \n",
    "    -1: import the ```Scanner``` class\n",
    "    \n",
    "    -2: create an object of type Scanner\n",
    "    \n",
    "    -3: use object from step# 2 with methods from Scanner class"
   ]
  },
  {
   "cell_type": "markdown",
   "id": "10dab7b6",
   "metadata": {},
   "source": [
    "**💥STEP ONE: Importing Scanner Class**: \n",
    "\n",
    "- Whenever you need to read an input from the user, you must first import the Scanner class\n",
    "- Place the import statement before the class declaration!\n",
    "\n",
    "- Syntax:\n",
    "\n",
    "```import java.util.Scanner;```"
   ]
  },
  {
   "cell_type": "code",
   "execution_count": 47,
   "id": "7d734658",
   "metadata": {},
   "outputs": [
    {
     "data": {
      "text/plain": [
       "No Outputs"
      ]
     },
     "execution_count": 47,
     "metadata": {},
     "output_type": "execute_result"
    }
   ],
   "source": [
    "//Step one: import Scanner\n",
    "import java.util.Scanner;\n",
    "\n",
    "public class Foo{\n",
    "    public static void main (String [] args){\n",
    "        \n",
    "        \n",
    "    }\n",
    "}\n"
   ]
  },
  {
   "cell_type": "markdown",
   "id": "97c100a2",
   "metadata": {},
   "source": [
    "**💥STEP TWO: Create an object of type Scanner**: \n",
    "\n",
    "- The object will be used later to call methods in Scanner class\n",
    "    - So, without this object you cant read an input!\n",
    "    - Usually, the object will be created whenever you want to read an input\n",
    "\n",
    "- Syntax:\n",
    "\n",
    "```Scanner <name> = new Scanner (System.in);```\n",
    "\n",
    "- where:\n",
    "    \n",
    "    -name: any name you like, but it has to be a valid Java identifier\n",
    "    - Examples for most frequently used names are: ```scnr, in, input, and keyboard```\n",
    "    "
   ]
  },
  {
   "cell_type": "code",
   "execution_count": 4,
   "id": "96bbe581",
   "metadata": {},
   "outputs": [
    {
     "data": {
      "text/plain": [
       "No Outputs"
      ]
     },
     "execution_count": 4,
     "metadata": {},
     "output_type": "execute_result"
    }
   ],
   "source": [
    "//Step one: import Scanner\n",
    "import java.util.Scanner;\n",
    "\n",
    "public class Foo{\n",
    "    public static void main (String [] args){\n",
    "        //Step two: create an object \n",
    "        Scanner input = new Scanner (System.in);\n",
    "        \n",
    "    }\n",
    "}\n"
   ]
  },
  {
   "cell_type": "markdown",
   "id": "b2c10300",
   "metadata": {},
   "source": [
    "## 💥Methods of Scanner Class"
   ]
  },
  {
   "cell_type": "markdown",
   "id": "c77a985b",
   "metadata": {},
   "source": [
    "Here is a list of most frequently used Scanner methods to be used with the object that you have created on step two:\n",
    "- ```close()```: to close the Scanner class. It is usually placed as last statement after reading all the inputs your program needs. \n",
    "- ```nextBoolean()```: reads and returns the input as a boolean. \n",
    "- ```nextByte()```: reads and returns the input as a byte.\n",
    "- ```nextDouble()```: reads and returns the input as a double.\n",
    "-```nextFloat()```: reads and returns the input as a float.\n",
    "- ```nextInt()```: reads and returns the input as an integer.\n",
    "- ```nextLong()```: reads and returns the input as a long.\n",
    "- ```nextShort()```: reads and returns the input as a short.\n",
    "- ```next()```: reads and returns the input as a String and until a space(” “) is encountered\n",
    "- ```nextLine()```: reads and returns the input as a String and until the Enter button in the keyboard is pressed."
   ]
  },
  {
   "cell_type": "markdown",
   "id": "ff3da558",
   "metadata": {},
   "source": [
    "**💥Reading an integer from the user**"
   ]
  },
  {
   "cell_type": "code",
   "execution_count": null,
   "id": "147f9d3d",
   "metadata": {},
   "outputs": [],
   "source": [
    "//DO NOT run this piece of code here, copy it and paste it into an IDE\n",
    "//It will generate an ERROR\n",
    "\n",
    "//Step one: import Scanner\n",
    "import java.util.Scanner;\n",
    "\n",
    "public class Foo{\n",
    "    public static void main (String [] args){\n",
    "        //Step two: create an object \n",
    "        Scanner input = new Scanner (System.in);\n",
    "        \n",
    "        //Step three: read the input and save it in an integer variable\n",
    "        //But before doing so, prompt the user! by printing a message as follow\n",
    "        \n",
    "        System.out.print(\"Enter a whole number: \");\n",
    "        \n",
    "        //now, read the input\n",
    "        int number = input.nextInt ();\n",
    "        \n",
    "        //close Scanner class\n",
    "        input.close();\n",
    "        \n",
    "    }\n",
    "}\n"
   ]
  },
  {
   "cell_type": "markdown",
   "id": "2335b070",
   "metadata": {},
   "source": [
    "**💥Reading a floating-point from the user**"
   ]
  },
  {
   "cell_type": "code",
   "execution_count": null,
   "id": "1ce2b1bb",
   "metadata": {},
   "outputs": [],
   "source": [
    "//DO NOT run this piece of code here, copy it and paste it into an IDE\n",
    "//It will generate an ERROR\n",
    "\n",
    "//Step one: import Scanner\n",
    "import java.util.Scanner;\n",
    "\n",
    "public class Foo{\n",
    "    public static void main (String [] args){\n",
    "        //Step two: create an object \n",
    "        Scanner input = new Scanner (System.in);\n",
    "        \n",
    "        //Step three: read the input and save it in a double variable\n",
    "        //But before doing so, prompt the user! by printing a message as follow\n",
    "        \n",
    "        System.out.print(\"Enter a double number: \");\n",
    "        \n",
    "        //now, read the input\n",
    "        double number = input.nextDouble ();\n",
    "        \n",
    "        \n",
    "        //close Scanner class\n",
    "        input.close();\n",
    "        \n",
    "        \n",
    "    }\n",
    "}\n"
   ]
  },
  {
   "cell_type": "markdown",
   "id": "a90863ef",
   "metadata": {},
   "source": [
    "**💥Reading a String from the user**"
   ]
  },
  {
   "cell_type": "code",
   "execution_count": null,
   "id": "7b1641ff",
   "metadata": {},
   "outputs": [],
   "source": [
    "//DO NOT run this piece of code here, copy it and paste it into an IDE\n",
    "//It will generate an ERROR\n",
    "\n",
    "//Step one: import Scanner\n",
    "import java.util.Scanner;\n",
    "\n",
    "public class Foo{\n",
    "    public static void main (String [] args){\n",
    "        //Step two: create an object \n",
    "        Scanner input = new Scanner (System.in);\n",
    "        \n",
    "        //Step three: read the input and save it in a string variable\n",
    "        //But before doing so, prompt the user! by printing a message as follow\n",
    "        \n",
    "        \n",
    "        //notice here, we are using same object to read two input data of same type!\n",
    "        \n",
    "        System.out.print(\"Enter first name: \");\n",
    "        \n",
    "        //now, read the input\n",
    "        String first_name = input.next ();\n",
    "        \n",
    "        \n",
    "        System.out.print(\"Enter last name: \");\n",
    "        String last_name = input.nextLine ();\n",
    "        \n",
    "        \n",
    "        //close Scanner class\n",
    "        input.close();\n",
    "        \n",
    "        \n",
    "    }\n",
    "}"
   ]
  },
  {
   "cell_type": "markdown",
   "id": "864ceb6f",
   "metadata": {},
   "source": [
    "**💥Reading different data with the same object**"
   ]
  },
  {
   "cell_type": "code",
   "execution_count": null,
   "id": "8e7b8c88",
   "metadata": {},
   "outputs": [],
   "source": [
    "//DO NOT run this piece of code here, copy it and paste it into an IDE\n",
    "//It will generate an ERROR\n",
    "\n",
    "//Step one: import Scanner\n",
    "import java.util.Scanner;\n",
    "\n",
    "public class Foo{\n",
    "    public static void main (String [] args){\n",
    "        //Step two: create an object \n",
    "        Scanner in = new Scanner (System.in);\n",
    "        \n",
    "        \n",
    "        //notice here, we are using same object to read two inputs of different type!\n",
    "        \n",
    "        System.out.print(\"Enter your name: \");\n",
    "        \n",
    "        //now, read the input\n",
    "        String name = in.next ();\n",
    "        \n",
    "        \n",
    "        System.out.print(\"Enter your hight: \");\n",
    "        double hight = in.nextDouble ();\n",
    "        \n",
    "        \n",
    "        //close Scanner class\n",
    "        in.close();\n",
    "        \n",
    "        \n",
    "    }\n",
    "}"
   ]
  },
  {
   "cell_type": "markdown",
   "id": "f023b2f3",
   "metadata": {},
   "source": [
    "## 💥Outputs in Java:\n",
    "- No need to import anything!\n",
    "    \n",
    "    -Java implicitly imports \"java.lang\" package for you!\n",
    "    \n",
    "- No need to create an object!\n",
    "\n",
    "- Syntax:\n",
    "\n",
    "```System.out.<method> (argument);```\n",
    "\n",
    "-where:\n",
    "- System.out is the object to call the method\n",
    "- method could be ```print, println, or printf```\n",
    "- argument could be variable, string, literal, or expression!"
   ]
  },
  {
   "cell_type": "markdown",
   "id": "3ebcfcb0",
   "metadata": {},
   "source": [
    "## 💥Methods to Display Information on the Screen "
   ]
  },
  {
   "cell_type": "markdown",
   "id": "47dadb83",
   "metadata": {},
   "source": [
    "**💥print ( )** prints the string on the console and the cursor remains at the end of the line \n",
    "\n",
    "- Syntax if there is only one argument:\n",
    "\n",
    "```System.out.print (args);```\n",
    "\n",
    "- Where:\n",
    "    - System.out is the object\n",
    "    - print is the method name\n",
    "    - args could be variables, string, or expression need to be printed on the screen\n",
    "    \n",
    "- Syntax if there is more than one argument:\n",
    "\n",
    "```System.out.print (argOne + argTwo +  ..... + argN);```\n",
    "\n",
    "- Note:\n",
    "    - Arguments could be expression, variables, or strings\n",
    "    - Arguments could be of differenet data types\n",
    "    \n",
    "Examples:\n"
   ]
  },
  {
   "cell_type": "code",
   "execution_count": 49,
   "id": "2d7e9a63",
   "metadata": {},
   "outputs": [
    {
     "name": "stdout",
     "output_type": "stream",
     "text": [
      "Hello There!"
     ]
    },
    {
     "data": {
      "text/plain": [
       "No Outputs"
      ]
     },
     "execution_count": 49,
     "metadata": {},
     "output_type": "execute_result"
    }
   ],
   "source": [
    "System.out.print(\"Hello There!\");"
   ]
  },
  {
   "cell_type": "code",
   "execution_count": 50,
   "id": "19af5700",
   "metadata": {},
   "outputs": [
    {
     "name": "stdout",
     "output_type": "stream",
     "text": [
      "Hello Ali"
     ]
    },
    {
     "data": {
      "text/plain": [
       "No Outputs"
      ]
     },
     "execution_count": 50,
     "metadata": {},
     "output_type": "execute_result"
    }
   ],
   "source": [
    "String name = \"Ali\";\n",
    "\n",
    "System.out.print(\"Hello \"+name);"
   ]
  },
  {
   "cell_type": "code",
   "execution_count": 6,
   "id": "0ea5553c",
   "metadata": {},
   "outputs": [
    {
     "name": "stdout",
     "output_type": "stream",
     "text": [
      "Hello Ali; your are 20 years old"
     ]
    },
    {
     "data": {
      "text/plain": [
       "No Outputs"
      ]
     },
     "execution_count": 6,
     "metadata": {},
     "output_type": "execute_result"
    }
   ],
   "source": [
    "String name = \"Ali\";\n",
    "\n",
    "int age =20;\n",
    "\n",
    "System.out.print(\"Hello \"+name+\"; your are \"+age+\" years old\");"
   ]
  },
  {
   "cell_type": "code",
   "execution_count": 7,
   "id": "0aa36412",
   "metadata": {},
   "outputs": [
    {
     "name": "stdout",
     "output_type": "stream",
     "text": [
      "Total sum of 10 and 8 is 18"
     ]
    },
    {
     "data": {
      "text/plain": [
       "No Outputs"
      ]
     },
     "execution_count": 7,
     "metadata": {},
     "output_type": "execute_result"
    }
   ],
   "source": [
    "int num1 =10, num2= 8;\n",
    "\n",
    "int sum = num1+num2;\n",
    "\n",
    "System.out.print(\"Total sum of \"+num1+\" and \"+num2+\" is \"+sum);"
   ]
  },
  {
   "cell_type": "markdown",
   "id": "8091640f",
   "metadata": {},
   "source": [
    "**💥println ( )** prints the string on the console and the cursor remains at the start of the next new line \n",
    "\n",
    "- Syntax if there is only one argument:\n",
    "\n",
    "```System.out.println (args);```\n",
    "\n",
    "- Where:\n",
    "    - System.out is the object\n",
    "    - println is the method name -note the l in println is lowercase of letter L and NOT 1 or I-\n",
    "    - args could be variables, string, or expression need to be printed on the screen\n",
    "    \n",
    "- Syntax if there is more than one argument:\n",
    "\n",
    "```System.out.println (argOne + argTwo +  ..... + argN);```\n",
    "\n",
    "- Note:\n",
    "    - Arguments could be expression, variables, or strings\n",
    "    - Arguments could be of differenet data types\n",
    "    \n",
    "Examples:\n"
   ]
  },
  {
   "cell_type": "code",
   "execution_count": 8,
   "id": "86009d8f",
   "metadata": {},
   "outputs": [
    {
     "name": "stdout",
     "output_type": "stream",
     "text": [
      "Hello There!\n"
     ]
    },
    {
     "data": {
      "text/plain": [
       "No Outputs"
      ]
     },
     "execution_count": 8,
     "metadata": {},
     "output_type": "execute_result"
    }
   ],
   "source": [
    "System.out.println(\"Hello There!\");"
   ]
  },
  {
   "cell_type": "code",
   "execution_count": 9,
   "id": "9303ad0e",
   "metadata": {},
   "outputs": [
    {
     "name": "stdout",
     "output_type": "stream",
     "text": [
      "Hello Ali\n"
     ]
    },
    {
     "data": {
      "text/plain": [
       "No Outputs"
      ]
     },
     "execution_count": 9,
     "metadata": {},
     "output_type": "execute_result"
    }
   ],
   "source": [
    "String name = \"Ali\";\n",
    "\n",
    "System.out.println(\"Hello \"+name);"
   ]
  },
  {
   "cell_type": "code",
   "execution_count": 10,
   "id": "9606dcfd",
   "metadata": {},
   "outputs": [
    {
     "name": "stdout",
     "output_type": "stream",
     "text": [
      "Hello Ali; your are 20 years old\n"
     ]
    },
    {
     "data": {
      "text/plain": [
       "No Outputs"
      ]
     },
     "execution_count": 10,
     "metadata": {},
     "output_type": "execute_result"
    }
   ],
   "source": [
    "String name = \"Ali\";\n",
    "\n",
    "int age =20;\n",
    "\n",
    "System.out.println(\"Hello \"+name+\"; your are \"+age+\" years old\");"
   ]
  },
  {
   "cell_type": "code",
   "execution_count": 53,
   "id": "b899ce63",
   "metadata": {},
   "outputs": [
    {
     "name": "stdout",
     "output_type": "stream",
     "text": [
      "Total sum of 10 and 8 is Bye!\n"
     ]
    },
    {
     "data": {
      "text/plain": [
       "No Outputs"
      ]
     },
     "execution_count": 53,
     "metadata": {},
     "output_type": "execute_result"
    }
   ],
   "source": [
    "int num1 =10, num2= 8;\n",
    "\n",
    "int sum = num1+num2;\n",
    "\n",
    "System.out.print(\"Total sum of \"+num1+\" and \"+num2+\" is \");\n",
    "//System.out.println (sum);\n",
    "System.out.println (\"Bye!\");"
   ]
  },
  {
   "cell_type": "markdown",
   "id": "83cfd887",
   "metadata": {},
   "source": [
    "**💥printf ( )** prints a formatted string on the screen\n",
    "\n",
    "- Syntax if there is only one argument:\n",
    "\n",
    "```System.out.printf (string);```\n",
    "\n",
    "- Where:\n",
    "    - System.out is the object\n",
    "    - println is the method name -note the l in println is lowercase of letter L and NOT 1 or I-\n",
    "    - string is the argument\n",
    "    \n",
    "- Syntax if there is more than one argument:\n",
    "\n",
    "```System.out.printf(format, arguments);```\n",
    "\n",
    "- Note:\n",
    "    - Arguments could be expression, variables, or strings\n",
    "    - Arguments could be of differenet data types\n",
    "    - Arguments are separated by comma (,) not +\n",
    "    - Format syntax:\n",
    "    \n",
    "        ```%<flags><width><.precision>value```\n",
    "        - Where:\n",
    "        - flags are used to represent the data type of value\n",
    "             -Flags are:\n",
    "            -  ```%c``` for singe characters\n",
    "            - ```%d``` for decimal numbers (integers)\n",
    "            - ```%f``` for folating points numbers \n",
    "            - ```%s``` for strings\n",
    "                 \n",
    "        - width represents the minimum number of characters to be printed on the screen\n",
    "        - precision specifies the number of digits after the point when printing a floating-point value or it might represent the length of a substring from a string"
   ]
  },
  {
   "cell_type": "markdown",
   "id": "2bcad1b8",
   "metadata": {},
   "source": [
    "**💥Formatting a String**"
   ]
  },
  {
   "cell_type": "code",
   "execution_count": 57,
   "id": "737da13c",
   "metadata": {},
   "outputs": [
    {
     "name": "stdout",
     "output_type": "stream",
     "text": [
      "hello there!"
     ]
    },
    {
     "data": {
      "text/plain": [
       "No Outputs"
      ]
     },
     "execution_count": 57,
     "metadata": {},
     "output_type": "execute_result"
    }
   ],
   "source": [
    "System.out.printf(\"%s\", \"hello there!\");"
   ]
  },
  {
   "cell_type": "code",
   "execution_count": 58,
   "id": "26171908",
   "metadata": {},
   "outputs": [
    {
     "name": "stdout",
     "output_type": "stream",
     "text": [
      "'HELLO THERE!'"
     ]
    },
    {
     "data": {
      "text/plain": [
       "No Outputs"
      ]
     },
     "execution_count": 58,
     "metadata": {},
     "output_type": "execute_result"
    }
   ],
   "source": [
    "System.out.printf(\"'%S'\", \"hello There!\"); // single qoutation will print it and the whole string will be upper case"
   ]
  },
  {
   "cell_type": "code",
   "execution_count": 25,
   "id": "23868c96",
   "metadata": {},
   "outputs": [
    {
     "name": "stdout",
     "output_type": "stream",
     "text": [
      "'hello there!'"
     ]
    },
    {
     "data": {
      "text/plain": [
       "No Outputs"
      ]
     },
     "execution_count": 25,
     "metadata": {},
     "output_type": "execute_result"
    }
   ],
   "source": [
    "System.out.printf(\"'%10s'\", \"hello there!\"); //blank spaces will be added to the left of the string if the string length \n",
    "                                                //is less than the minimum length\n",
    "                                                //Output: '  hello there!'"
   ]
  },
  {
   "cell_type": "code",
   "execution_count": 26,
   "id": "8428dbfd",
   "metadata": {},
   "outputs": [
    {
     "name": "stdout",
     "output_type": "stream",
     "text": [
      "'hello there!' \r\n"
     ]
    },
    {
     "data": {
      "text/plain": [
       "No Outputs"
      ]
     },
     "execution_count": 26,
     "metadata": {},
     "output_type": "execute_result"
    }
   ],
   "source": [
    "\n",
    "System.out.printf (\"'%-10s' %n\", \"hello there!\"); //to left-justify the string use the - before the width value\n",
    "                                                  //Output: 'hello there!  '"
   ]
  },
  {
   "cell_type": "code",
   "execution_count": 27,
   "id": "4f6ba1c9",
   "metadata": {},
   "outputs": [
    {
     "name": "stdout",
     "output_type": "stream",
     "text": [
      "'hello'"
     ]
    },
    {
     "data": {
      "text/plain": [
       "No Outputs"
      ]
     },
     "execution_count": 27,
     "metadata": {},
     "output_type": "execute_result"
    }
   ],
   "source": [
    "System.out.printf(\"'%3.5s'\", \"hello there!\"); //to limit the number of charcters to be printed use width.precision\n",
    "                                              //width represnts the justification i.e. white spaces\n",
    "                                              //precision number of charcters to be printed!\n",
    "                                              //Output: '   hello'"
   ]
  },
  {
   "cell_type": "markdown",
   "id": "b5acc238",
   "metadata": {},
   "source": [
    "**💥Formatting Integers**"
   ]
  },
  {
   "cell_type": "code",
   "execution_count": 45,
   "id": "f932dbcd",
   "metadata": {},
   "outputs": [
    {
     "name": "stdout",
     "output_type": "stream",
     "text": [
      "x is an integer: 100"
     ]
    },
    {
     "data": {
      "text/plain": [
       "No Outputs"
      ]
     },
     "execution_count": 45,
     "metadata": {},
     "output_type": "execute_result"
    }
   ],
   "source": [
    "int x =100;\n",
    "System.out.printf(\"x is an integer: %d\", x);"
   ]
  },
  {
   "cell_type": "code",
   "execution_count": 31,
   "id": "521b9e58",
   "metadata": {},
   "outputs": [
    {
     "name": "stdout",
     "output_type": "stream",
     "text": [
      "12.345 "
     ]
    },
    {
     "data": {
      "text/html": [
       "java&#8203;.io&#8203;.PrintStream&#8203;@181464d3"
      ]
     },
     "execution_count": 31,
     "metadata": {},
     "output_type": "execute_result"
    }
   ],
   "source": [
    "System.out.printf(Locale.ITALY,\"%,d \", 12345);"
   ]
  },
  {
   "cell_type": "code",
   "execution_count": 32,
   "id": "130f0b1a",
   "metadata": {},
   "outputs": [
    {
     "name": "stdout",
     "output_type": "stream",
     "text": [
      "12,345 "
     ]
    },
    {
     "data": {
      "text/html": [
       "java&#8203;.io&#8203;.PrintStream&#8203;@181464d3"
      ]
     },
     "execution_count": 32,
     "metadata": {},
     "output_type": "execute_result"
    }
   ],
   "source": [
    "System.out.printf(Locale.US,\"%,d \", 12345);"
   ]
  },
  {
   "cell_type": "markdown",
   "id": "a450b2fa",
   "metadata": {},
   "source": [
    "**💥Formatting Floating and Double Numbers**"
   ]
  },
  {
   "cell_type": "code",
   "execution_count": null,
   "id": "35aa4a01",
   "metadata": {},
   "outputs": [
    {
     "name": "stdout",
     "output_type": "stream",
     "text": [
      "1.230000"
     ]
    },
    {
     "data": {
      "text/plain": [
       "No Outputs"
      ]
     },
     "execution_count": 46,
     "metadata": {},
     "output_type": "execute_result"
    }
   ],
   "source": [
    "System.out.printf(\"%f\", 1.23); //Output is: 1.230000\n",
    "                               // Note that the number of decimal digits by default is 6"
   ]
  },
  {
   "cell_type": "code",
   "execution_count": 35,
   "id": "a478325d",
   "metadata": {},
   "outputs": [
    {
     "name": "stdout",
     "output_type": "stream",
     "text": [
      "'1.23'"
     ]
    },
    {
     "data": {
      "text/plain": [
       "No Outputs"
      ]
     },
     "execution_count": 35,
     "metadata": {},
     "output_type": "execute_result"
    }
   ],
   "source": [
    "System.out.printf(\"'%3.2f'\", 1.2345); //the minimum width is 3, and the length of the decimal part will be 2"
   ]
  },
  {
   "cell_type": "markdown",
   "id": "352d0e1e",
   "metadata": {},
   "source": [
    "## 💥Escape Characters! "
   ]
  },
  {
   "cell_type": "markdown",
   "id": "b4c84835",
   "metadata": {},
   "source": [
    "**Escape characters** are symbols that help you to print new line or any special character that is used as part of Java statements.For example: ', \", /\n",
    "\n",
    "- Escape charcters are used inside ```\" \"``` within any of the above print methods\n",
    "- The most common escape characters are:\n",
    "\n",
    "    ```\\t``` - tab\n",
    "    \n",
    "    ```\\n``` - new line\n",
    "    \n",
    "    ```\\'``` single quote\n",
    "    \n",
    "   ```\\\"``` double quote\n",
    "   \n",
    "    ```\\\\``` backslash\n"
   ]
  },
  {
   "cell_type": "code",
   "execution_count": 54,
   "id": "508fe8ca",
   "metadata": {},
   "outputs": [
    {
     "name": "stdout",
     "output_type": "stream",
     "text": [
      "Hello \n",
      " there!\n"
     ]
    },
    {
     "data": {
      "text/plain": [
       "No Outputs"
      ]
     },
     "execution_count": 54,
     "metadata": {},
     "output_type": "execute_result"
    }
   ],
   "source": [
    "public class Main {\n",
    "\n",
    "   public static void main(String[] args) {\n",
    "       System.out.println(\"Hello \\n there!\");\n",
    "\n",
    "   }\n",
    "}"
   ]
  },
  {
   "cell_type": "code",
   "execution_count": 38,
   "id": "dd96ff60",
   "metadata": {},
   "outputs": [
    {
     "name": "stdout",
     "output_type": "stream",
     "text": [
      "Hello \t there!\n"
     ]
    },
    {
     "data": {
      "text/plain": [
       "No Outputs"
      ]
     },
     "execution_count": 38,
     "metadata": {},
     "output_type": "execute_result"
    }
   ],
   "source": [
    "public class Main {\n",
    "\n",
    "   public static void main(String[] args) {\n",
    "       \n",
    "       System.out.println(\"Hello \\t there!\");\n",
    "\n",
    "   }\n",
    "}"
   ]
  },
  {
   "cell_type": "code",
   "execution_count": 56,
   "id": "457c6fd9",
   "metadata": {},
   "outputs": [
    {
     "name": "stdout",
     "output_type": "stream",
     "text": [
      "\"Hello there!\"\n"
     ]
    },
    {
     "data": {
      "text/plain": [
       "No Outputs"
      ]
     },
     "execution_count": 56,
     "metadata": {},
     "output_type": "execute_result"
    }
   ],
   "source": [
    "public class Main {\n",
    "\n",
    "   public static void main(String[] args) {\n",
    "       System.out.println(\"\\\"Hello there!\\\"\");\n",
    "\n",
    "   }\n",
    "}"
   ]
  },
  {
   "cell_type": "code",
   "execution_count": 41,
   "id": "bcc2cf97",
   "metadata": {},
   "outputs": [
    {
     "name": "stdout",
     "output_type": "stream",
     "text": [
      "Programming \n",
      " is 'so' much \t fun\n"
     ]
    },
    {
     "data": {
      "text/plain": [
       "No Outputs"
      ]
     },
     "execution_count": 41,
     "metadata": {},
     "output_type": "execute_result"
    }
   ],
   "source": [
    "public class Main {\n",
    "\n",
    "   public static void main(String[] args) {\n",
    "       String str = \"Programming \\n is \\'so\\' much \\t fun\";\n",
    "       System.out.println(str);\n",
    "\n",
    "   }\n",
    "}"
   ]
  },
  {
   "cell_type": "code",
   "execution_count": 44,
   "id": "b0e82d4a",
   "metadata": {},
   "outputs": [
    {
     "name": "stdout",
     "output_type": "stream",
     "text": [
      "Ali is \"20\" years old!\n"
     ]
    },
    {
     "data": {
      "text/plain": [
       "No Outputs"
      ]
     },
     "execution_count": 44,
     "metadata": {},
     "output_type": "execute_result"
    }
   ],
   "source": [
    "public class Main {\n",
    "\n",
    "   public static void main(String[] args) {\n",
    "       String name = \"Ali\";\n",
    "       int age = 20;\n",
    "       System.out.println(name + \" is \\\"\"+age+ \"\\\" years old!\");\n",
    "\n",
    "   }\n",
    "}"
   ]
  }
 ],
 "metadata": {
  "kernelspec": {
   "display_name": "SciJava",
   "language": "groovy",
   "name": "scijava"
  },
  "language_info": {
   "codemirror_mode": "groovy",
   "file_extension": "",
   "mimetype": "",
   "name": "scijava",
   "nbconverter_exporter": "",
   "pygments_lexer": "groovy",
   "version": "1.0"
  }
 },
 "nbformat": 4,
 "nbformat_minor": 5
}
