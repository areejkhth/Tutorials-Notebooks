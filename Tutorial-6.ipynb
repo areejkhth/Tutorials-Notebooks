{
 "cells": [
  {
   "cell_type": "markdown",
   "id": "1ac8e9e9",
   "metadata": {},
   "source": [
    "# Tutorial # 6"
   ]
  },
  {
   "cell_type": "markdown",
   "id": "0476f19a",
   "metadata": {},
   "source": [
    "## ⭐️Objectives:\n",
    "\n",
    "By the end of this tutorial, you should be able to answer the following Qs:\n",
    "- How to trace methods calling\n",
    "- What is a variable scope\n",
    "- What is a local variable"
   ]
  },
  {
   "cell_type": "markdown",
   "id": "b8f34feb",
   "metadata": {},
   "source": [
    "## 💥Tracing Methods Calls:\n"
   ]
  },
  {
   "cell_type": "code",
   "execution_count": null,
   "id": "a1c4a4a8",
   "metadata": {},
   "outputs": [],
   "source": [
    "public class TracingMethodCalls {\n",
    "    public static int compute(int x, int y) {\n",
    "        x += 3;\n",
    "        y = 2*y - x;\n",
    "        System.out.println(x + \" \" + y);\n",
    "        return x;\n",
    "    }\n",
    "\n",
    "    public static void main(String[] args) {\n",
    "        int x = 1;\n",
    "        int y = 3;\n",
    "        System.out.println(x + \" \" + y);\n",
    "        x = compute(x, y);\n",
    "        System.out.println(x + \" \" + y);\n",
    "        compute(y, y);\n",
    "        System.out.println(x + \" \" + y);\n",
    "        y = 3 + 4 * compute(y, x);\n",
    "        System.out.println(x + \" \" + y);\n",
    "    }\n",
    "}"
   ]
  },
  {
   "cell_type": "code",
   "execution_count": null,
   "id": "5067d805",
   "metadata": {},
   "outputs": [],
   "source": []
  }
 ],
 "metadata": {
  "kernelspec": {
   "display_name": "SciJava",
   "language": "groovy",
   "name": "scijava"
  },
  "language_info": {
   "codemirror_mode": "groovy",
   "file_extension": "",
   "mimetype": "",
   "name": "scijava",
   "nbconverter_exporter": "",
   "pygments_lexer": "groovy",
   "version": "1.0"
  }
 },
 "nbformat": 4,
 "nbformat_minor": 5
}
